{
 "cells": [
  {
   "cell_type": "markdown",
   "metadata": {},
   "source": [
    "# Assignment 1 - Probability, Linear Algebra, Programming, and Git\n",
    "\n",
    "## *Bingying (Echo) Liu*\n",
    "Netid:  *bl199*"
   ]
  },
  {
   "cell_type": "markdown",
   "metadata": {},
   "source": [
    "# Probability and Statistics Theory"
   ]
  },
  {
   "cell_type": "markdown",
   "metadata": {
    "collapsed": true
   },
   "source": [
    "## 1\n",
    "Let $f(x) = \\begin{cases}\n",
    "                0           & x < 0  \\\\\n",
    "                \\alpha x^2  & 0 \\leq x \\leq 2 \\\\\n",
    "                0           & 2 < x\n",
    "            \\end{cases}$\n",
    "            \n",
    "For what value of $\\alpha$ is $f(x)$ a valid probability density function?\n",
    "\n",
    "*Note: for all assignments, write out all equations and math for all assignments using markdown and [LaTeX](https://tobi.oetiker.ch/lshort/lshort.pdf) and show all work*"
   ]
  },
  {
   "cell_type": "markdown",
   "metadata": {},
   "source": [
    "**ANSWER**\n",
    "\n",
    "Firstly, $\\alpha > 0$ since $f(x)$ is positive everywhere for $x \\in R$.\n",
    "\n",
    "Secondly, $\\int_s f(x) dx = 1$, therefore\n",
    "\n",
    "$\\begin{align*}\n",
    "\\int_s f(x) dx &= 1 \\\\\n",
    "\\int_{-\\infty}^{0} 0 dx + \\int_{0}^{2} \\alpha \\cdot x^2  dx + \\int_{2}^{\\infty} 0 dx &= 1\\\\\n",
    "\\alpha \\cdot \\frac{x^3}{3} \\Big|_0^2 &= 1\\\\\n",
    "\\alpha \\cdot \\frac{8}{3} &= 1\\\\\n",
    "\\alpha &= \\frac{3}{8}\n",
    "\\end{align*}$\n"
   ]
  },
  {
   "cell_type": "markdown",
   "metadata": {},
   "source": [
    "## 2\n",
    "What is the cumulative distribution function (CDF) that corresponds to the following probability distribution function? Please state the value of the CDF for all possible values of $x$.\n",
    "\n",
    "$f(x) = \\begin{cases}\n",
    "    \\frac{1}{3} & 0 < x < 3 \\\\\n",
    "    0           & \\text{otherwise}\n",
    "    \\end{cases}$"
   ]
  },
  {
   "cell_type": "markdown",
   "metadata": {},
   "source": [
    "**ANSWER**\n",
    "\n",
    "CDF for all possible values of x is  \n",
    "$F_x(s) = \\begin{cases}\n",
    "    0           & s \\leq 0  \\\\\n",
    "    \\int_{0}^{s} \\frac{1}{3} dx = \\frac{s}{3}          & 0 < s < 3 \\\\\n",
    "    1           & s \\geq 3  \n",
    "    \\end{cases}$\n"
   ]
  },
  {
   "cell_type": "markdown",
   "metadata": {},
   "source": [
    "## 3\n",
    "For the probability distribution function for the random variable $X$,\n",
    "\n",
    "$f(x) = \\begin{cases}\n",
    "    \\frac{1}{3} & 0 < x < 3 \\\\\n",
    "    0           & \\text{otherwise}\n",
    "    \\end{cases}$\n",
    "    \n",
    "what is the (a) expected value and (b) variance of $X$. *Show all work*."
   ]
  },
  {
   "cell_type": "markdown",
   "metadata": {},
   "source": [
    "**ANSWER**\n",
    "\n",
    "(a) Expected value:\n",
    "\n",
    "$\\begin{align*}\n",
    "E(x) &= \\int_{-\\infty}^{\\infty} x \\cdot f(x) dx\\\\\n",
    "&= \\int_{-\\infty}^{0} x \\cdot 0 dx + \\int_{0}^{3} x \\cdot \\frac{1}{3} dx + \\int_{3}^{-\\infty} x \\cdot 0 dx\\\\\n",
    "&= \\frac{1}{2} \\cdot \\frac{1}{3} \\cdot x^2 \\Big|_0^3\\\\\n",
    "&= \\frac{9}{6}\\\\\n",
    "&= \\frac{3}{2}\n",
    "\\end{align*}$\n",
    "\n",
    "(b) Variance:\n",
    "\n",
    "$\\begin{align*}\n",
    "Var(x) &= \\int_{-\\infty}^{\\infty} (x - E(x))^2 \\cdot f(x) dx\\\\\n",
    "&= \\int_{-\\infty}^{\\infty} (x - \\frac{3}{2}))^2 \\cdot f(x) dx\\\\\n",
    "&= \\int_{-\\infty}^{0} (x - \\frac{3}{2}))^2 \\cdot 0 dx + \\int_{0}^{3} (x - \\frac{3}{2}))^2 \\cdot \\frac{1}{3} dx + \\int_{3}^{-\\infty} (x - \\frac{3}{2}))^2 \\cdot 0 dx\\\\\n",
    "&= \\frac{1}{3} \\cdot \\int_{0}^{3} x^2 - 3x + \\frac{9}{4} dx\\\\\n",
    "&= \\frac{1}{3} \\cdot (\\frac {x^3}{3} - \\frac{3x^2}{2} + \\frac{9x}{4}) \\Big|_0^3\\\\\n",
    "&= \\frac{1}{3} \\cdot (\\frac{27}{3} - \\frac{27}{2} + \\frac{27}{4})\\\\\n",
    "&= 3 - \\frac{9}{2} + \\frac{9}{4}\\\\\n",
    "&= \\frac{3}{4}\n",
    "\\end{align*}$\n",
    "\n"
   ]
  },
  {
   "cell_type": "markdown",
   "metadata": {},
   "source": [
    "## 4\n",
    "Consider the following table of data that provides the values of a discrete data vector $\\mathbf{x}$ of samples from the random variable $X$, where each entry in $\\mathbf{x}$ is given as $x_i$.\n",
    "\n",
    "*Table 1. Dataset N=5 observations*\n",
    "\n",
    "|        | $x_0$ | $x_1$ | $x_2$ | $x_3$ | $x_4$ |\n",
    "|------  |-------|-------|-------|-------|-------|\n",
    "|$\\textbf{x}$| 2     | 3     | 10    | -1    | -1    |\n",
    "\n",
    "What is the (a) mean, (b) variance, and the  of the data? \n",
    "\n",
    "*Show all work. Your answer should include the definition of mean, median, and variance in the context of discrete data.*"
   ]
  },
  {
   "cell_type": "markdown",
   "metadata": {},
   "source": [
    "**ANSWER**\n",
    "\n",
    "(a) **Mean**\n",
    "\n",
    "Mean is the average of numbers.\n",
    "\n",
    "$\\mu = \\frac{2+3+10-1-1}{5} = 2.6$\n",
    "\n",
    "(b) **Variance**\n",
    "\n",
    "Variance is the average of the squared differences from the mean.\n",
    "\n",
    "$\\begin{align*}\n",
    "var(x) &= \\frac{(2-2.6)^2 + (3-2.6)^2 + (10-2.6)^2 + (-1-2.6)^2 + (-1-2.6)^2}{5}\\\\ \n",
    "&= \\frac{(-0.6)^2+(0.4)^2+(7.4)^2+(-3.6)^2+(-3.6)^2}{5}\\\\\n",
    "&= \\frac{406}{25}\\\\\n",
    "&= 16.24\n",
    "\\end{align*}$\n",
    "\n",
    "(c) **Median**\n",
    "\n",
    "Median is the middle number of a sequence of numbers. To find the median, we need to organize each number in order by size and the number in the middle is median. If there is an even set of numbers, average the two middle numbers.\n",
    "\n",
    "In this case, median = 2.\n"
   ]
  },
  {
   "cell_type": "markdown",
   "metadata": {},
   "source": [
    "## 5\n",
    "Review of counting from probability theory. \n",
    "\n",
    "(a) How many different 7-place license plates are possible if the first 3 places only contain letters and the last 4 only contain numbers?\n",
    "\n",
    "(b) How many different batting orders are possible for a baseball team with 9 players?\n",
    "\n",
    "(c) How many batting orders of 5 players are possible for a team with 9 players total?\n",
    "\n",
    "(d) Let's assume this class has 26 students and we want to form project teams. How many unique teams of 3 are possible?\n",
    "\n",
    "*Hint: For each problem, determine if order matters, and if it should be calculated with or without replacement.*"
   ]
  },
  {
   "cell_type": "markdown",
   "metadata": {},
   "source": [
    "**ANSWER**\n",
    "\n",
    "(a) For this question, order matters and it should be calculated with replacement.<br>\n",
    "    $26^3 \\cdot 10^4 = 175760000$ different 7-place license plates are possible.\n",
    "\n",
    "(b) For this question, order matters and it should be calculated without replacement.<br>\n",
    "    $9! = 362880$ different batting orders are possible for a baseball team with 9 players.\n",
    " \n",
    "(c) For this question, order matters and it should be calculated without replacement.<br>\n",
    "    $9P5 = \\frac{9!}{(9-5)!} = 15120$ batting orders of 5 players are possible for a team with 9 players.\n",
    "\n",
    "(d) For this question, order doesn't matter and it should be calculated without replacement.<br>\n",
    "    $26C3 = \\frac{26!}{3! \\cdot (26-3)!} = 2600$ unique teams of 3 are possible.\n",
    "\n"
   ]
  },
  {
   "cell_type": "markdown",
   "metadata": {},
   "source": [
    "# Linear Algebra"
   ]
  },
  {
   "cell_type": "markdown",
   "metadata": {},
   "source": [
    "## 6\n",
    "**Matrix manipulations and multiplication**. Machine learning involves working with many matrices, so this exercise will provide you with the opportunity to practice those skills.\n",
    "\n",
    "Let\n",
    "$\\mathbf{A} =  \\begin{bmatrix}\n",
    "1 & 2 & 3 \\\\\n",
    "2 & 4 & 5 \\\\\n",
    "3 & 5 & 6 \n",
    "\\end{bmatrix}$, $\\mathbf{b} =  \\begin{bmatrix}\n",
    "-1  \\\\\n",
    "3  \\\\\n",
    "8  \n",
    "\\end{bmatrix}$, $\\mathbf{c} =  \\begin{bmatrix}\n",
    "4  \\\\\n",
    "-3  \\\\\n",
    "6  \n",
    "\\end{bmatrix}$, and $\\mathbf{I} =  \\begin{bmatrix}\n",
    "1 & 0 & 0 \\\\\n",
    "0 & 1 & 0 \\\\\n",
    "0 & 0 & 1 \n",
    "\\end{bmatrix}$\n",
    "\n",
    "Compute the following or indicate that it cannot be computed:\n",
    "\n",
    "1. $\\mathbf{A}\\mathbf{A}$\n",
    "2. $\\mathbf{A}\\mathbf{A}^T$\n",
    "3. $\\mathbf{A}\\mathbf{b}$\n",
    "4. $\\mathbf{A}\\mathbf{b}^T$\n",
    "5. $\\mathbf{b}\\mathbf{A}$\n",
    "6. $\\mathbf{b}^T\\mathbf{A}$\n",
    "7. $\\mathbf{b}\\mathbf{b}$\n",
    "8. $\\mathbf{b}^T\\mathbf{b}$\n",
    "9. $\\mathbf{b}\\mathbf{b}^T$\n",
    "10. $\\mathbf{b} + \\mathbf{c}^T$\n",
    "11. $\\mathbf{b}^T\\mathbf{b}^T$\n",
    "12. $\\mathbf{A}^{-1}\\mathbf{b}$\n",
    "13. $\\mathbf{A}\\circ\\mathbf{A}$\n",
    "14. $\\mathbf{b}\\circ\\mathbf{c}$\n",
    "\n",
    "*Note: The element-wise (or Hadamard) product is the product of each element in one matrix with the corresponding element in another matrix, and is represented by the symbol \"$\\circ$\".*"
   ]
  },
  {
   "cell_type": "markdown",
   "metadata": {},
   "source": [
    "**ANSWER**\n",
    "\n",
    "**1.** $\\mathbf{A}\\mathbf{A}$ can be calculated as the following.\n",
    "   Therefore,  $\\mathbf{AA} =  \\begin{bmatrix}\n",
    "   14 & 25 & 31 \\\\\n",
    "   25 & 45 & 56 \\\\\n",
    "   31 & 56 & 70 \n",
    "   \\end{bmatrix}$"
   ]
  },
  {
   "cell_type": "code",
   "execution_count": 4,
   "metadata": {},
   "outputs": [
    {
     "data": {
      "text/plain": [
       "array([[14, 25, 31],\n",
       "       [25, 45, 56],\n",
       "       [31, 56, 70]])"
      ]
     },
     "execution_count": 4,
     "metadata": {},
     "output_type": "execute_result"
    }
   ],
   "source": [
    "import numpy as np\n",
    "\n",
    "A = np.array([1, 2, 3, 2, 4, 5, 3, 5, 6]).reshape(-1,3)\n",
    "np.dot(A, A)"
   ]
  },
  {
   "cell_type": "markdown",
   "metadata": {},
   "source": [
    "**2.** Since A is a symmetric square matrix, $\\mathbf{A} = \\mathbf{A}^T$. Therefore, $\\mathbf{A}\\mathbf{A}^T = \\mathbf{A}\\mathbf{A} = \\begin{bmatrix}\n",
    "   14 & 25 & 31 \\\\\n",
    "   25 & 45 & 56 \\\\\n",
    "   31 & 56 & 70 \n",
    "   \\end{bmatrix}$"
   ]
  },
  {
   "cell_type": "markdown",
   "metadata": {},
   "source": [
    "**3.** $\\mathbf{A}\\mathbf{b}$ can be calculated as the following. Thus $\\mathbf{A}\\mathbf{b} = \\begin{bmatrix}\n",
    "   29 \\\\\n",
    "   50 \\\\\n",
    "   60 \n",
    "   \\end{bmatrix}$"
   ]
  },
  {
   "cell_type": "code",
   "execution_count": 16,
   "metadata": {},
   "outputs": [
    {
     "data": {
      "text/plain": [
       "array([[29],\n",
       "       [50],\n",
       "       [60]])"
      ]
     },
     "execution_count": 16,
     "metadata": {},
     "output_type": "execute_result"
    }
   ],
   "source": [
    "b = np.array([[-1], [3], [8]])\n",
    "np.dot(A,b)"
   ]
  },
  {
   "cell_type": "markdown",
   "metadata": {},
   "source": [
    "**4.** Since the number of columns in $\\mathbf{A}$ is 3, which is different from the number of rows in $\\mathbf{b}^T$: 1, the result can't be computed."
   ]
  },
  {
   "cell_type": "markdown",
   "metadata": {},
   "source": [
    "**5.** Since the number of columns in $\\mathbf{b}$ is 1, which is different from the number of rows in $\\mathbf{A}$:3, the result can't be computed."
   ]
  },
  {
   "cell_type": "markdown",
   "metadata": {},
   "source": [
    "**6.** $\\mathbf{b}^T\\mathbf{A}$ can be calculated as the following. Therefore, $\\mathbf{b}^T\\mathbf{A} = \\begin{bmatrix}\n",
    "   29 & 50 & 60\\\\\n",
    "   \\end{bmatrix}$"
   ]
  },
  {
   "cell_type": "code",
   "execution_count": 17,
   "metadata": {},
   "outputs": [
    {
     "name": "stdout",
     "output_type": "stream",
     "text": [
      "[[-1  3  8]]\n"
     ]
    },
    {
     "data": {
      "text/plain": [
       "array([[29, 50, 60]])"
      ]
     },
     "execution_count": 17,
     "metadata": {},
     "output_type": "execute_result"
    }
   ],
   "source": [
    "print(b.T)\n",
    "np.dot(b.T, A)"
   ]
  },
  {
   "cell_type": "markdown",
   "metadata": {},
   "source": [
    "**7.** Since the number of columns and the number of rows in b are different, we can't multiply $\\mathbf{b}$ by itself. So it can't be computed."
   ]
  },
  {
   "cell_type": "markdown",
   "metadata": {},
   "source": [
    "**8.** $\\mathbf{b}^T\\mathbf{b}$ can be calculated as the following. Thus,  $\\mathbf{b}^T\\mathbf{b} =\n",
    "\\begin{bmatrix}\n",
    "   74\\\\\n",
    "   \\end{bmatrix}$"
   ]
  },
  {
   "cell_type": "code",
   "execution_count": 18,
   "metadata": {},
   "outputs": [
    {
     "data": {
      "text/plain": [
       "array([[74]])"
      ]
     },
     "execution_count": 18,
     "metadata": {},
     "output_type": "execute_result"
    }
   ],
   "source": [
    "np.dot(b.T,b)"
   ]
  },
  {
   "cell_type": "markdown",
   "metadata": {},
   "source": [
    "**9.** $\\mathbf{b}\\mathbf{b}^T$ can be calculated as the following. Therefore, $\\mathbf{b}\\mathbf{b}^T = \\begin{bmatrix}\n",
    "   1 & -3 & -8 \\\\\n",
    "   -3 & 9 & 24 \\\\\n",
    "   -8 & 24 & 64 \n",
    "   \\end{bmatrix}$"
   ]
  },
  {
   "cell_type": "code",
   "execution_count": 19,
   "metadata": {},
   "outputs": [
    {
     "data": {
      "text/plain": [
       "array([[ 1, -3, -8],\n",
       "       [-3,  9, 24],\n",
       "       [-8, 24, 64]])"
      ]
     },
     "execution_count": 19,
     "metadata": {},
     "output_type": "execute_result"
    }
   ],
   "source": [
    "np.dot(b,b.T)"
   ]
  },
  {
   "cell_type": "markdown",
   "metadata": {},
   "source": [
    "**10.** Since the size of matrix $\\mathbf{b}$ is $3 \\times 1$ and the size of matrices $\\mathbf{c}^T$ is $1 \\times 3$, we can only add two matrix when both of them have the same size. Therefore, the result can't be computed."
   ]
  },
  {
   "cell_type": "markdown",
   "metadata": {},
   "source": [
    "**11.** Since the number of columns of $\\mathbf{b}^T$ doesn't equal to the number of rows of itself, the result can't be computed."
   ]
  },
  {
   "cell_type": "markdown",
   "metadata": {},
   "source": [
    "**12.** $\\mathbf{A}^{-1}\\mathbf{b}$ can be calculated as the following. Therefore, $\\mathbf{A}^{-1}\\mathbf{b} = \\begin{bmatrix}\n",
    "   6 \\\\\n",
    "   4 \\\\\n",
    "   -5 \n",
    "   \\end{bmatrix}$"
   ]
  },
  {
   "cell_type": "code",
   "execution_count": 25,
   "metadata": {},
   "outputs": [
    {
     "data": {
      "text/plain": [
       "array([[ 6.],\n",
       "       [ 4.],\n",
       "       [-5.]])"
      ]
     },
     "execution_count": 25,
     "metadata": {},
     "output_type": "execute_result"
    }
   ],
   "source": [
    "AI = np.linalg.inv(A) #inverse of A\n",
    "np.dot(AI, b)"
   ]
  },
  {
   "cell_type": "markdown",
   "metadata": {},
   "source": [
    "**13.** $\\mathbf{A}\\circ\\mathbf{A}$ can be calculated as the following. Therefore, $\\mathbf{A}\\circ\\mathbf{A} = \\begin{bmatrix}\n",
    "   1 & 4 & 9 \\\\\n",
    "   4 & 16 & 25 \\\\\n",
    "   9 & 25 & 36 \n",
    "   \\end{bmatrix}$"
   ]
  },
  {
   "cell_type": "code",
   "execution_count": 29,
   "metadata": {},
   "outputs": [
    {
     "data": {
      "text/plain": [
       "array([[ 1,  4,  9],\n",
       "       [ 4, 16, 25],\n",
       "       [ 9, 25, 36]])"
      ]
     },
     "execution_count": 29,
     "metadata": {},
     "output_type": "execute_result"
    }
   ],
   "source": [
    "A * A #element-wise multiplication"
   ]
  },
  {
   "cell_type": "markdown",
   "metadata": {},
   "source": [
    "**14.** $\\mathbf{b}\\circ\\mathbf{c}$ can be calculated as the following. Therefore, $\\mathbf{b}\\circ\\mathbf{c} = \\begin{bmatrix}\n",
    "   -4 \\\\\n",
    "   -9 \\\\\n",
    "   48 \n",
    "   \\end{bmatrix}$"
   ]
  },
  {
   "cell_type": "code",
   "execution_count": 28,
   "metadata": {},
   "outputs": [
    {
     "data": {
      "text/plain": [
       "array([[-4],\n",
       "       [-9],\n",
       "       [48]])"
      ]
     },
     "execution_count": 28,
     "metadata": {},
     "output_type": "execute_result"
    }
   ],
   "source": [
    "c = np.array([[4],[-3],[6]])\n",
    "b * c"
   ]
  },
  {
   "cell_type": "markdown",
   "metadata": {},
   "source": [
    "## 6\n",
    "**Eigenvectors and eigenvalues**. Eigenvectors and eigenvalues are useful for some machine learning algorithms, but the concepts take time to solidly grasp. For an intuitive review of these concepts, explore this [interactive website at Setosa.io](http://setosa.io/ev/eigenvectors-and-eigenvalues/). Also, the series of linear algebra videos by Grant Sanderson of 3Brown1Blue are excellent and can be viewed on youtube [here](https://www.youtube.com/playlist?list=PLZHQObOWTQDPD3MizzM2xVFitgF8hE_ab).\n",
    "\n",
    "1. Calculate the eigenvalues and corresponding eigenvectors of matrix $\\mathbf{A}$ above, from the last question.\n",
    "2. Choose one of the eigenvector/eigenvalue pairs, $\\mathbf{v}$ and $\\lambda$, and show that $\\mathbf{A} \\mathbf{v} = \\lambda \\mathbf{v}$. Also show that this relationship extends to higher orders: $\\mathbf{A} \\mathbf{A} \\mathbf{v} = \\lambda^2 \\mathbf{v}$\n",
    "3. Show that the eigenvectors are orthogonal to one another (e.g. their inner product is zero). This is true for real, symmetric matrices."
   ]
  },
  {
   "cell_type": "markdown",
   "metadata": {},
   "source": [
    "**ANSWER**\n",
    "\n",
    "**1.** The first eigenvalue of $\\mathbf{A}$ is $11.34$ (all the calculations are round to the nearest hundredths) and it's corresponding eigenvector is $<-0.33, -0.59, -0.74>$. \n",
    "\n",
    "The second eigenvalue is $-0.52$ and it's corresponding eigenvector is $<-0.74, -0.33, -0.59>$. \n",
    "\n",
    "The third eigenvalue is $0.17$ and it's corresponding eigenvector is $<0.59, -0.74, 0.33>$. "
   ]
  },
  {
   "cell_type": "code",
   "execution_count": 31,
   "metadata": {},
   "outputs": [
    {
     "name": "stdout",
     "output_type": "stream",
     "text": [
      "[11.34481428 -0.51572947  0.17091519]\n"
     ]
    }
   ],
   "source": [
    "from numpy import linalg as LA\n",
    "w, v = LA.eig(A)\n",
    "print(w)  #Eigenvalues"
   ]
  },
  {
   "cell_type": "code",
   "execution_count": 32,
   "metadata": {},
   "outputs": [
    {
     "name": "stdout",
     "output_type": "stream",
     "text": [
      "[[-0.32798528 -0.73697623  0.59100905]\n",
      " [-0.59100905 -0.32798528 -0.73697623]\n",
      " [-0.73697623  0.59100905  0.32798528]]\n"
     ]
    }
   ],
   "source": [
    "print(v) #Eigenvectors"
   ]
  },
  {
   "cell_type": "markdown",
   "metadata": {},
   "source": [
    "**2.** I chose the first eigenvector/eigenvalue pairs. Calculaions are in the next few cells.\n",
    "\n",
    "When $\\lambda = 11.34$ and $\\mathbf{v} = <-0.33, -0.59, -0.74>$,  $\\mathbf{A} \\mathbf{v} = <-3.72, -6.70, -8.36> = \\lambda \\mathbf{v}$. $\\mathbf{A} \\mathbf{A} \\mathbf{v} = <-42.21, -76.07, -94.85> = \\lambda^2 \\mathbf{v}$.\n",
    "\n"
   ]
  },
  {
   "cell_type": "code",
   "execution_count": 48,
   "metadata": {},
   "outputs": [
    {
     "data": {
      "text/plain": [
       "array([-3.72093206, -6.70488789, -8.36085845])"
      ]
     },
     "execution_count": 48,
     "metadata": {},
     "output_type": "execute_result"
    }
   ],
   "source": [
    "u1 = v[:,0]\n",
    "lam = w[0]\n",
    "\n",
    "np.dot(A, u1)"
   ]
  },
  {
   "cell_type": "code",
   "execution_count": 49,
   "metadata": {},
   "outputs": [
    {
     "data": {
      "text/plain": [
       "array([-3.72093206, -6.70488789, -8.36085845])"
      ]
     },
     "execution_count": 49,
     "metadata": {},
     "output_type": "execute_result"
    }
   ],
   "source": [
    "lam * u1"
   ]
  },
  {
   "cell_type": "code",
   "execution_count": 50,
   "metadata": {},
   "outputs": [
    {
     "data": {
      "text/plain": [
       "array([-42.2132832 , -76.06570795, -94.85238636])"
      ]
     },
     "execution_count": 50,
     "metadata": {},
     "output_type": "execute_result"
    }
   ],
   "source": [
    "np.dot(np.dot(A, A), u1)"
   ]
  },
  {
   "cell_type": "code",
   "execution_count": 51,
   "metadata": {},
   "outputs": [
    {
     "data": {
      "text/plain": [
       "array([-42.2132832 , -76.06570795, -94.85238636])"
      ]
     },
     "execution_count": 51,
     "metadata": {},
     "output_type": "execute_result"
    }
   ],
   "source": [
    "lam * lam * u1"
   ]
  },
  {
   "cell_type": "markdown",
   "metadata": {},
   "source": [
    "**3.** Since the inner product of all possible eigenvector combinations are zero, we say that the eigenvectors are orthogonal to each other."
   ]
  },
  {
   "cell_type": "code",
   "execution_count": 52,
   "metadata": {},
   "outputs": [],
   "source": [
    "u2 = v[:,1]\n",
    "u3 = v[:,2]"
   ]
  },
  {
   "cell_type": "code",
   "execution_count": 58,
   "metadata": {},
   "outputs": [
    {
     "data": {
      "text/plain": [
       "-0.0"
      ]
     },
     "execution_count": 58,
     "metadata": {},
     "output_type": "execute_result"
    }
   ],
   "source": [
    "np.round(np.dot(u1, u2))"
   ]
  },
  {
   "cell_type": "code",
   "execution_count": 59,
   "metadata": {},
   "outputs": [
    {
     "data": {
      "text/plain": [
       "-0.0"
      ]
     },
     "execution_count": 59,
     "metadata": {},
     "output_type": "execute_result"
    }
   ],
   "source": [
    "np.round(np.dot(u1, u3))"
   ]
  },
  {
   "cell_type": "code",
   "execution_count": 60,
   "metadata": {},
   "outputs": [
    {
     "data": {
      "text/plain": [
       "-0.0"
      ]
     },
     "execution_count": 60,
     "metadata": {},
     "output_type": "execute_result"
    }
   ],
   "source": [
    "np.round(np.dot(u2, u3))"
   ]
  },
  {
   "cell_type": "markdown",
   "metadata": {},
   "source": [
    "# Numerical Programming"
   ]
  },
  {
   "cell_type": "markdown",
   "metadata": {},
   "source": [
    "## 7\n",
    "Speed comparison between vectorized and non-vectorized code. Begin by creating an array of 10 million random numbers using the numpy random.randn module. Compute the sum of the squares first in a for loop, then using Numpy's `dot` module. Time how long it takes to compute each and report the results and report the output. How many times faster is the vectorized code than the for loop approach?\n",
    "\n",
    "*Note: all code should be well commented, properly formatted, and your answers should be output using the `print()` function as follows (where the # represents your answers, to a reasonable precision):\n",
    "\n",
    "`Time [sec] (non-vectorized): ######`\n",
    "\n",
    "`Time [sec] (vectorized):     ######`\n",
    "\n",
    "`The vectorized code is ##### times faster than the vectorized code`"
   ]
  },
  {
   "cell_type": "markdown",
   "metadata": {},
   "source": [
    "**ANSWER**"
   ]
  },
  {
   "cell_type": "code",
   "execution_count": 6,
   "metadata": {},
   "outputs": [
    {
     "name": "stdout",
     "output_type": "stream",
     "text": [
      "Sum of squares is 10004444.544643775. Time [sec] (non-vectorized): 11.765621662139893\n",
      "Sum of squares is 10004444.544642666. Time [sec] (non-vectorized): 0.005919456481933594\n",
      "The vectorized code is 1987.6185758015145 times faster than the vectorized code\n"
     ]
    }
   ],
   "source": [
    "import numpy as np\n",
    "import time\n",
    "\n",
    "# Generate the random samples\n",
    "np.random.seed(123)\n",
    "rannum = np.random.randn(10000000)\n",
    "\n",
    "# Compute the sum of squares the non-vectorized way (using a for loop)\n",
    "start1 = time.time()\n",
    "sum1 = 0\n",
    "for i in range(len(rannum)):\n",
    "    sum1 += (rannum[i])**2\n",
    "end1 = time.time()\n",
    "time_elapsed1 = end1 - start1\n",
    "print('Sum of squares is '+ str(sum1) +'. Time [sec] (non-vectorized): ' + str(time_elapsed1))\n",
    "    \n",
    "# Compute the sum of squares the vectorized way (using numpy)\n",
    "start2 = time.time()\n",
    "sum2 = np.sum(np.dot(rannum, rannum))\n",
    "end2 = time.time()\n",
    "time_elapsed2 = end2 - start2\n",
    "print('Sum of squares is '+ str(sum2) +'. Time [sec] (non-vectorized): ' + str(time_elapsed2))\n",
    "\n",
    "# Print the results\n",
    "time_multiple = np.divide(time_elapsed1, time_elapsed2)\n",
    "print('The vectorized code is '+ str(time_multiple) + ' times faster than the vectorized code')"
   ]
  },
  {
   "cell_type": "markdown",
   "metadata": {},
   "source": [
    "## 8\n",
    "One popular Agile development framework is Scrum (a paradigm recommended for data science projects). It emphasizes the continual evolution of code for projects, becoming progressively better, but starting with a quickly developed minimum viable product. This often means that code written early on is not optimized, and that's a good thing - it's best to get it to work first before optimizing. Imagine that you wrote the following code during a sprint towards getting an end-to-end system working. Vectorize the following code and show the difference in speed between the current implementation and a vectorized version.\n",
    "\n",
    "The function below computes the function $f(x,y) = x^2 - 2 y^2$ and determines whether this quantity is above or below a given threshold, `thresh=0`. This is done for $x,y \\in \\{-4,4\\}$, over a 2,000-by-2,000 grid covering that domain.\n",
    "\n",
    "(a) Vectorize this code and demonstrate (as in the last exercise) the speed increase through vectorization and (b) plot the resulting data - both the function $f(x,y)$ and the thresholded output - using [`imshow`](https://matplotlib.org/api/_as_gen/matplotlib.pyplot.imshow.html?highlight=matplotlib%20pyplot%20imshow#matplotlib.pyplot.imshow) from `matplotlib`.\n",
    "\n",
    "*Hint: look at the `numpy` [`meshgrid`](https://docs.scipy.org/doc/numpy-1.13.0/reference/generated/numpy.meshgrid.html) documentation*"
   ]
  },
  {
   "cell_type": "code",
   "execution_count": 19,
   "metadata": {},
   "outputs": [
    {
     "name": "stdout",
     "output_type": "stream",
     "text": [
      "Time [sec] (non-vectorized): 17.969136476516724\n",
      "Time [sec] (vectorized): 0.16954708099365234\n",
      "The vectorized code is 105.98316627574064 times faster than the vectorized code\n"
     ]
    },
    {
     "data": {
      "image/png": "[encoded data removed]",
      "text/plain": [
       "<matplotlib.figure.Figure at 0x1b3c6501438>"
      ]
     },
     "metadata": {},
     "output_type": "display_data"
    }
   ],
   "source": [
    "import numpy as np\n",
    "import time\n",
    "import matplotlib.pyplot as plt\n",
    "\n",
    "# Initialize variables for this exerise\n",
    "nvalues = 2000\n",
    "xvalues = np.linspace(-4,4,nvalues)\n",
    "yvalues = np.linspace(-4,4,nvalues)\n",
    "thresh  = 0\n",
    "\n",
    "# Nonvectorized implementation\n",
    "F_xy = np.zeros((2000, 2000))\n",
    "compare = np.zeros((2000, 2000))\n",
    "\n",
    "start1 = time.time()\n",
    "for i in range(len(yvalues)):\n",
    "    for j in range(len(xvalues)):\n",
    "        F_xy[j,i] = xvalues[i]**2 - 2 * (yvalues[j]**2)\n",
    "        compare[j,i] = F_xy[j,i] > thresh\n",
    "end1 = time.time()\n",
    "time_elapsed1 = end1 - start1\n",
    "\n",
    "# Vectorized implementation\n",
    "X,Y = np.meshgrid(xvalues,yvalues)\n",
    "\n",
    "start2 = time.time()\n",
    "F = X**2 - 2 * Y**2\n",
    "F_threshold = F > thresh\n",
    "F_threshold = F_threshold.astype(np.int)\n",
    "end2 = time.time()\n",
    "time_elapsed2 = end2 - start2\n",
    "time_multiple = np.divide(time_elapsed1, time_elapsed2)\n",
    "\n",
    "# Print the time for each and the speed increase\n",
    "print('Time [sec] (non-vectorized): ' + str(time_elapsed1))\n",
    "print('Time [sec] (vectorized): ' + str(time_elapsed2))\n",
    "print('The vectorized code is '+ str(time_multiple) + ' times faster than the vectorized code')\n",
    "\n",
    "# Plot the result\n",
    "plot1 = plt.imshow(F, extent=(-4,4,-4,4), cmap='PuOr')\n",
    "plt.xlabel('x')\n",
    "plt.ylabel('y')\n",
    "plt.title('$f(x,y) = x^2 - 2 * y^2$')\n",
    "color_bar_max = max([F.max(), abs(F.min())])\n",
    "plt.gcf().colorbar(plot1, label='$f(x,y)$')\n",
    "plot1.set_clim(-color_bar_max,color_bar_max)\n",
    "plt.show()"
   ]
  },
  {
   "cell_type": "code",
   "execution_count": 140,
   "metadata": {},
   "outputs": [
    {
     "data": {
      "image/png": "[encoded data removed]",
      "text/plain": [
       "<matplotlib.figure.Figure at 0x2a18abe6c50>"
      ]
     },
     "metadata": {},
     "output_type": "display_data"
    }
   ],
   "source": [
    "# Plot the thresholded output f(x,y) > 0\n",
    "plot2 = plt.imshow(F_threshold, extent=(-4,4,-4,4), cmap='gray')\n",
    "plt.xlabel('x')\n",
    "plt.ylabel('y')\n",
    "plt.title('$f(x,y) > 0$')\n",
    "plt.gcf().colorbar(plot2, label='$f(x,y) > 0$')\n",
    "plt.show()"
   ]
  },
  {
   "cell_type": "markdown",
   "metadata": {},
   "source": [
    "## 9\n",
    "This exercise will walk through some basic numerical programming exercises.\n",
    "1. Synthesize $n=10^4$ normally distributed data points with mean $\\mu=2$ and a standard deviation of $\\sigma=1$. Call these observations from a random variable $X$, and call the vector of observations that you generate, $\\textbf{x}$.\n",
    "2. Calculate the mean and standard deviation of $\\textbf{x}$ to validate (1) and provide the result to a precision of four significant figures.\n",
    "3. Plot a histogram of the data in $\\textbf{x}$ with 30 bins\n",
    "4. What is the 90th percentile of $\\textbf{x}$? The 90th percentile is the value below which 90% of observations can be found.\n",
    "5. What is the 99th percentile of $\\textbf{x}$?\n",
    "6. Now synthesize $n=10^4$ normally distributed data points with mean $\\mu=0$ and a standard deviation of $\\sigma=3$. Call these observations from a random variable $Y$, and call the vector of observations that you generate, $\\textbf{y}$.\n",
    "7. Plot the histogram of the data in $\\textbf{y}$ on a (new) plot with the histogram of $\\textbf{x}$, so that both histograms can be seen and compared.\n",
    "8. Using the observations from $\\textbf{x}$ and $\\textbf{y}$, estimate $E[XY]$"
   ]
  },
  {
   "cell_type": "markdown",
   "metadata": {},
   "source": [
    "**ANSWER**"
   ]
  },
  {
   "cell_type": "code",
   "execution_count": 132,
   "metadata": {},
   "outputs": [
    {
     "name": "stdout",
     "output_type": "stream",
     "text": [
      "1)\n",
      "10 examples of data x: [ 0.9143694   2.99734545  2.2829785   0.49370529  1.42139975  3.65143654\n",
      " -0.42667924  1.57108737  3.26593626  1.1332596 ]\n",
      "\n",
      "2)\n",
      "x_mean = 2.01\n",
      "x_std = 0.9981\n",
      "\n",
      "3)\n"
     ]
    },
    {
     "data": {
      "image/png": "[encoded data removed]",
      "text/plain": [
       "<matplotlib.figure.Figure at 0x2a18a9943c8>"
      ]
     },
     "metadata": {},
     "output_type": "display_data"
    },
    {
     "name": "stdout",
     "output_type": "stream",
     "text": [
      "\n",
      "4)\n",
      "The 90th percentile of x is 3.289\n",
      "\n",
      "5)\n",
      "The 99th percentile of x is 4.326\n",
      "\n",
      "6)\n",
      "10 examples of data y: [-3.25689181  2.99203634  0.84893549 -4.51888414 -1.73580076  4.95430961\n",
      " -7.28003773 -1.28673789  3.79780878 -2.60022121]\n",
      "\n",
      "7)\n"
     ]
    },
    {
     "data": {
      "image/png": "[encoded data removed]",
      "text/plain": [
       "<matplotlib.figure.Figure at 0x2a18a8d02b0>"
      ]
     },
     "metadata": {},
     "output_type": "display_data"
    },
    {
     "name": "stdout",
     "output_type": "stream",
     "text": [
      "\n",
      "8)\n",
      "Using the observations from x and y, E(XY) = 0.05855\n"
     ]
    }
   ],
   "source": [
    "# 1 Synthesize x\n",
    "print('1)')\n",
    "np.random.seed(123)\n",
    "x = np.random.normal(loc = 2, scale = 1, size =10000)\n",
    "print('10 examples of data x: {}'.format(x[0:10]))\n",
    "\n",
    "# 2 Mean and Standard Deviation of x\n",
    "print('\\n2)')\n",
    "mean = np.mean(x)\n",
    "stddev = np.std(x)\n",
    "print('x_mean = {:.4}'.format(mean))\n",
    "print('x_std = {:.4}'.format(stddev))\n",
    "\n",
    "# 3 Hitogram of data in x\n",
    "print('\\n3)')\n",
    "plt.hist(x, 30, facecolor='g', alpha=0.75)\n",
    "plt.xlabel('x')\n",
    "plt.ylabel('Number of samples')\n",
    "plt.grid(True)\n",
    "plt.show()\n",
    "\n",
    "# 4 90th percentile of x\n",
    "print('\\n4)')\n",
    "percentile_90 = np.percentile(x, 90)\n",
    "print('The 90th percentile of x is {:.4}'.format(percentile_90))\n",
    "\n",
    "# 5 99th percentile of x\n",
    "print('\\n5)')\n",
    "percentile_99 = np.percentile(x, 99)\n",
    "print('The 99th percentile of x is {:.4}'.format(percentile_99))\n",
    "\n",
    "# 6 Synthesize y\n",
    "print('\\n6)')\n",
    "np.random.seed(123)\n",
    "y = np.random.normal(loc = 0, scale = 3, size =10000)\n",
    "print('10 examples of data y: {}'.format(y[0:10]))\n",
    "\n",
    "# 7 Histogram of data in x and y\n",
    "print('\\n7)')\n",
    "from matplotlib import pyplot\n",
    "pyplot.hist(x, 30, alpha=0.70, label='x')\n",
    "pyplot.hist(y, 30, alpha=0.70, label='y')\n",
    "plt.axis([-12, 12, 0, 1100])\n",
    "pyplot.legend(loc='upper right')\n",
    "plt.xlabel('Values')\n",
    "plt.ylabel('Number of samples')\n",
    "plt.grid('on')\n",
    "pyplot.show()\n",
    "\n",
    "# 8 E[XY]\n",
    "print('\\n8)')\n",
    "#Since random variables X and Y are independent, therefore E(XY)=E(X)E(Y)\n",
    "E_xy = np.mean(x)*np.mean(y)\n",
    "E_xy\n",
    "print('Using the observations from x and y, E(XY) = {:.4}'.format(E_xy))\n"
   ]
  },
  {
   "cell_type": "markdown",
   "metadata": {},
   "source": [
    "## 10\n",
    "Estimate the integral of the function $f(x)$ on the interval $0\\leq x < 2.5$ assuming we only know the following points from $f$:\n",
    "\n",
    "*Table 1. Dataset containing n=5 observations*\n",
    "\n",
    "| $x_i$ | 0.0 | 0.5 | 1.0 | 1.5 | 2.0 |\n",
    "|-|-|-|-|-|-|\n",
    "| $y_i$ | 6 | 7 | 8 | 4 | 1 |\n"
   ]
  },
  {
   "cell_type": "markdown",
   "metadata": {},
   "source": [
    "**ANSWER**\n",
    "\n"
   ]
  },
  {
   "cell_type": "code",
   "execution_count": 9,
   "metadata": {},
   "outputs": [
    {
     "name": "stdout",
     "output_type": "stream",
     "text": [
      "The integral of y is: 11.25\n"
     ]
    }
   ],
   "source": [
    "import numpy as np\n",
    "\n",
    "x = np.array([0,0.5,1.0,1.5,2.0])\n",
    "y = np.array([6,7,8,4,1])\n",
    "\n",
    "# Using a trapezoidal integration approach:\n",
    "y_diff = (y[:-1] + y[1:]) / 2\n",
    "dx = x[1:] - x[:-1]\n",
    "\n",
    "int_y = np.sum(y_diff * dx )\n",
    "\n",
    "print('The integral of y is: {:.4}'.format(int_y))"
   ]
  },
  {
   "cell_type": "markdown",
   "metadata": {
    "collapsed": true
   },
   "source": [
    "# Version Control via Git"
   ]
  },
  {
   "cell_type": "markdown",
   "metadata": {},
   "source": [
    "## 11\n",
    "Complete the [Atlassian Git tutorial](https://www.atlassian.com/git/tutorials/what-is-version-control), specifically the following sections. Try each concept that's presented. For this tutorial, instead of using BitBucket, use Github. Create a github account here if you don't already have one: https://github.com/\n",
    "1. [What is version control](https://www.atlassian.com/git/tutorials/what-is-version-control)\n",
    "2. [What is Git](https://www.atlassian.com/git/tutorials/what-is-git)\n",
    "3. [Install Git](https://www.atlassian.com/git/tutorials/install-git)\n",
    "4. [Setting up a repository](https://www.atlassian.com/git/tutorials/install-git)\n",
    "5. [Saving changes](https://www.atlassian.com/git/tutorials/saving-changes)\n",
    "6. [Inspecting a repository](https://www.atlassian.com/git/tutorials/inspecting-a-repository)\n",
    "7. [Undoing changes](https://www.atlassian.com/git/tutorials/undoing-changes)\n",
    "8. [Rewriting history](https://www.atlassian.com/git/tutorials/rewriting-history)\n",
    "9. [Syncing](https://www.atlassian.com/git/tutorials/syncing)\n",
    "10. [Making a pull request](https://www.atlassian.com/git/tutorials/making-a-pull-request)\n",
    "11. [Using branches](https://www.atlassian.com/git/tutorials/using-branches)\n",
    "12. [Comparing workflows](https://www.atlassian.com/git/tutorials/comparing-workflows)\n",
    "\n",
    "For your answer, affirm that you either completed the tutorial or have previous experience with all of the concepts above. Do this by typing your name below and selecting the situation that applies from the two options in brackets."
   ]
  },
  {
   "cell_type": "markdown",
   "metadata": {},
   "source": [
    "**ANSWER**\n",
    "\n",
    "*I, [**Bingying Liu**], affirm that I have [**completed the above tutorial / I have previous experience that covers all the content in this tutorial**]*"
   ]
  },
  {
   "cell_type": "markdown",
   "metadata": {},
   "source": [
    "## 12\n",
    "Using Github to create a static HTML website:\n",
    "1. Create a branch in your `machine-learning-course` repo called \"gh-pages\" and checkout that branch (this will provide an example of how to create a simple static website using [Github Pages](https://pages.github.com/))\n",
    "2. Create a file called \"index.html\" with the contents \"Hello World\" and add, commit, and push it to that branch.\n",
    "3. Submit the following: (a) a link to your github repository and (b) a link to your new \"Hello World\" website. The latter should be at the address https://[USERNAME].github.io/ECE590-assignment0 (where [USERNAME] is your github username)."
   ]
  },
  {
   "cell_type": "markdown",
   "metadata": {},
   "source": [
    "**ANSWER**\n",
    "\n",
    "(a) https://github.com/Echoliu27/Machine-Learning-Course\n",
    "\n",
    "(b) https://echoliu27.github.io/Machine-Learning-Course/\n"
   ]
  },
  {
   "cell_type": "markdown",
   "metadata": {
    "collapsed": true
   },
   "source": [
    "# Exploratory Data Analysis\n",
    "## 13\n",
    "Here you'll bring together some of the individual skills that you demonstrated above and create a Jupyter notebook based blog post on data analysis.\n",
    "\n",
    "1. Find a dataset that interests you and relates to a question or problem that you find intriguing\n",
    "2. Using a Jupyter notebook, describe the dataset, the source of the data, and the reason the dataset was of interest.\n",
    "3. Check the data and see if they need to be cleaned: are there missing values? Are there clearly erroneous values? Do two tables need to be merged together? Clean the data so it can be visualized.\n",
    "3. Plot the data, demonstrating interesting features that you discover. Are there any relationships between variables that were surprising or patterns that emerged? Please exercise creativity and curiosity in your plots.\n",
    "4. What insights are you able to take away from exploring the data? Is there a reason why analyzing the dataset you chose is particularly interesting or important? Summarize this as if your target audience was the readership of a major news organization - boil down your findings in a way that is accessible, but still accurate.\n",
    "5. Create a public repository on your github account titled \"machine-learning-course\". In it, create a readme file that contains the heading \"ECE590: Introductory Machine Learning for Data Science\". Add, commit, and push that Jupyter notebook to the master branch. Provide the link to the that post here."
   ]
  },
  {
   "cell_type": "markdown",
   "metadata": {},
   "source": [
    "**ANSWER**\n",
    "\n",
    "https://github.com/Echoliu27/Machine-Learning-Course/blob/master/Exploratory_Data_Analysis_candy.ipynb"
   ]
  },
  {
   "cell_type": "code",
   "execution_count": 9,
   "metadata": {},
   "outputs": [],
   "source": [
    "import numpy as np\n",
    "import pandas as pd\n",
    "import matplotlib.pyplot as plt\n",
    "import seaborn as sns"
   ]
  },
  {
   "cell_type": "markdown",
   "metadata": {},
   "source": [
    "I searched through web and found a data set about **\"Ultimate Halloween Candy Power Ranking\"** (https://www.kaggle.com/fivethirtyeight/the-ultimate-halloween-candy-power-ranking), which is very interesting to me and to all those who would like to make their house the most popular in neighborhood during Halloween season. We want to find out **what are the best Halloween candies to stockpile** and also **what make those candies so popular**. According to the kaggle data description, this data set is collected \"by creating a website where participants were shown presenting two fun-sized candies and asked to click on the one they would prefer to receive.\" There are about 269 thousand votes collected.\n",
    "\n",
    "First, let's take a look at the candy data set."
   ]
  },
  {
   "cell_type": "code",
   "execution_count": 2,
   "metadata": {},
   "outputs": [],
   "source": [
    "candy_data = pd.read_csv('candy-data.csv')"
   ]
  },
  {
   "cell_type": "code",
   "execution_count": 3,
   "metadata": {},
   "outputs": [
    {
     "data": {
      "text/html": [
       "<div>\n",
       "<style scoped>\n",
       "    .dataframe tbody tr th:only-of-type {\n",
       "        vertical-align: middle;\n",
       "    }\n",
       "\n",
       "    .dataframe tbody tr th {\n",
       "        vertical-align: top;\n",
       "    }\n",
       "\n",
       "    .dataframe thead th {\n",
       "        text-align: right;\n",
       "    }\n",
       "</style>\n",
       "<table border=\"1\" class=\"dataframe\">\n",
       "  <thead>\n",
       "    <tr style=\"text-align: right;\">\n",
       "      <th></th>\n",
       "      <th>competitorname</th>\n",
       "      <th>chocolate</th>\n",
       "      <th>fruity</th>\n",
       "      <th>caramel</th>\n",
       "      <th>peanutyalmondy</th>\n",
       "      <th>nougat</th>\n",
       "      <th>crispedricewafer</th>\n",
       "      <th>hard</th>\n",
       "      <th>bar</th>\n",
       "      <th>pluribus</th>\n",
       "      <th>sugarpercent</th>\n",
       "      <th>pricepercent</th>\n",
       "      <th>winpercent</th>\n",
       "    </tr>\n",
       "  </thead>\n",
       "  <tbody>\n",
       "    <tr>\n",
       "      <th>0</th>\n",
       "      <td>100 Grand</td>\n",
       "      <td>1</td>\n",
       "      <td>0</td>\n",
       "      <td>1</td>\n",
       "      <td>0</td>\n",
       "      <td>0</td>\n",
       "      <td>1</td>\n",
       "      <td>0</td>\n",
       "      <td>1</td>\n",
       "      <td>0</td>\n",
       "      <td>0.732</td>\n",
       "      <td>0.860</td>\n",
       "      <td>66.971725</td>\n",
       "    </tr>\n",
       "    <tr>\n",
       "      <th>1</th>\n",
       "      <td>3 Musketeers</td>\n",
       "      <td>1</td>\n",
       "      <td>0</td>\n",
       "      <td>0</td>\n",
       "      <td>0</td>\n",
       "      <td>1</td>\n",
       "      <td>0</td>\n",
       "      <td>0</td>\n",
       "      <td>1</td>\n",
       "      <td>0</td>\n",
       "      <td>0.604</td>\n",
       "      <td>0.511</td>\n",
       "      <td>67.602936</td>\n",
       "    </tr>\n",
       "    <tr>\n",
       "      <th>2</th>\n",
       "      <td>One dime</td>\n",
       "      <td>0</td>\n",
       "      <td>0</td>\n",
       "      <td>0</td>\n",
       "      <td>0</td>\n",
       "      <td>0</td>\n",
       "      <td>0</td>\n",
       "      <td>0</td>\n",
       "      <td>0</td>\n",
       "      <td>0</td>\n",
       "      <td>0.011</td>\n",
       "      <td>0.116</td>\n",
       "      <td>32.261086</td>\n",
       "    </tr>\n",
       "    <tr>\n",
       "      <th>3</th>\n",
       "      <td>One quarter</td>\n",
       "      <td>0</td>\n",
       "      <td>0</td>\n",
       "      <td>0</td>\n",
       "      <td>0</td>\n",
       "      <td>0</td>\n",
       "      <td>0</td>\n",
       "      <td>0</td>\n",
       "      <td>0</td>\n",
       "      <td>0</td>\n",
       "      <td>0.011</td>\n",
       "      <td>0.511</td>\n",
       "      <td>46.116505</td>\n",
       "    </tr>\n",
       "    <tr>\n",
       "      <th>4</th>\n",
       "      <td>Air Heads</td>\n",
       "      <td>0</td>\n",
       "      <td>1</td>\n",
       "      <td>0</td>\n",
       "      <td>0</td>\n",
       "      <td>0</td>\n",
       "      <td>0</td>\n",
       "      <td>0</td>\n",
       "      <td>0</td>\n",
       "      <td>0</td>\n",
       "      <td>0.906</td>\n",
       "      <td>0.511</td>\n",
       "      <td>52.341465</td>\n",
       "    </tr>\n",
       "  </tbody>\n",
       "</table>\n",
       "</div>"
      ],
      "text/plain": [
       "  competitorname  chocolate  fruity  caramel  peanutyalmondy  nougat  \\\n",
       "0      100 Grand          1       0        1               0       0   \n",
       "1   3 Musketeers          1       0        0               0       1   \n",
       "2       One dime          0       0        0               0       0   \n",
       "3    One quarter          0       0        0               0       0   \n",
       "4      Air Heads          0       1        0               0       0   \n",
       "\n",
       "   crispedricewafer  hard  bar  pluribus  sugarpercent  pricepercent  \\\n",
       "0                 1     0    1         0         0.732         0.860   \n",
       "1                 0     0    1         0         0.604         0.511   \n",
       "2                 0     0    0         0         0.011         0.116   \n",
       "3                 0     0    0         0         0.011         0.511   \n",
       "4                 0     0    0         0         0.906         0.511   \n",
       "\n",
       "   winpercent  \n",
       "0   66.971725  \n",
       "1   67.602936  \n",
       "2   32.261086  \n",
       "3   46.116505  \n",
       "4   52.341465  "
      ]
     },
     "execution_count": 3,
     "metadata": {},
     "output_type": "execute_result"
    }
   ],
   "source": [
    "candy_data.head()"
   ]
  },
  {
   "cell_type": "markdown",
   "metadata": {},
   "source": [
    "**\"competitorname\"** refers to brands and names of the candy. <br>\n",
    "**\"Chocolate, fruity, caramel, peanutyalmondy, nougat, crispedricewafer, hard, bar, pluribus\"** are ingredients/attributes of candy with value 1 for contain/true and 0 for not contain/false. Pluribus refers to whether a candy is in a bag or box.<br>\n",
    "**\"sugarpercent\"** refers to the percentile of sugar this candy falls under within the data set.<br>\n",
    "**\"pricepercent\"** refers to the percentile of price it falls under within the data set.<br>\n",
    "**\"winpercent\"** refers to the overall win percentage according to 269,000 matchups.\n",
    "\n",
    "Let's also take a look at the overall summary of the data set."
   ]
  },
  {
   "cell_type": "code",
   "execution_count": 4,
   "metadata": {},
   "outputs": [
    {
     "data": {
      "text/html": [
       "<div>\n",
       "<style scoped>\n",
       "    .dataframe tbody tr th:only-of-type {\n",
       "        vertical-align: middle;\n",
       "    }\n",
       "\n",
       "    .dataframe tbody tr th {\n",
       "        vertical-align: top;\n",
       "    }\n",
       "\n",
       "    .dataframe thead th {\n",
       "        text-align: right;\n",
       "    }\n",
       "</style>\n",
       "<table border=\"1\" class=\"dataframe\">\n",
       "  <thead>\n",
       "    <tr style=\"text-align: right;\">\n",
       "      <th></th>\n",
       "      <th>chocolate</th>\n",
       "      <th>fruity</th>\n",
       "      <th>caramel</th>\n",
       "      <th>peanutyalmondy</th>\n",
       "      <th>nougat</th>\n",
       "      <th>crispedricewafer</th>\n",
       "      <th>hard</th>\n",
       "      <th>bar</th>\n",
       "      <th>pluribus</th>\n",
       "      <th>sugarpercent</th>\n",
       "      <th>pricepercent</th>\n",
       "      <th>winpercent</th>\n",
       "    </tr>\n",
       "  </thead>\n",
       "  <tbody>\n",
       "    <tr>\n",
       "      <th>count</th>\n",
       "      <td>85.000000</td>\n",
       "      <td>85.000000</td>\n",
       "      <td>85.000000</td>\n",
       "      <td>85.000000</td>\n",
       "      <td>85.000000</td>\n",
       "      <td>85.000000</td>\n",
       "      <td>85.000000</td>\n",
       "      <td>85.000000</td>\n",
       "      <td>85.000000</td>\n",
       "      <td>85.000000</td>\n",
       "      <td>85.000000</td>\n",
       "      <td>85.000000</td>\n",
       "    </tr>\n",
       "    <tr>\n",
       "      <th>mean</th>\n",
       "      <td>0.435294</td>\n",
       "      <td>0.447059</td>\n",
       "      <td>0.164706</td>\n",
       "      <td>0.164706</td>\n",
       "      <td>0.082353</td>\n",
       "      <td>0.082353</td>\n",
       "      <td>0.176471</td>\n",
       "      <td>0.247059</td>\n",
       "      <td>0.517647</td>\n",
       "      <td>0.478647</td>\n",
       "      <td>0.468882</td>\n",
       "      <td>50.316764</td>\n",
       "    </tr>\n",
       "    <tr>\n",
       "      <th>std</th>\n",
       "      <td>0.498738</td>\n",
       "      <td>0.500140</td>\n",
       "      <td>0.373116</td>\n",
       "      <td>0.373116</td>\n",
       "      <td>0.276533</td>\n",
       "      <td>0.276533</td>\n",
       "      <td>0.383482</td>\n",
       "      <td>0.433861</td>\n",
       "      <td>0.502654</td>\n",
       "      <td>0.282778</td>\n",
       "      <td>0.285740</td>\n",
       "      <td>14.714357</td>\n",
       "    </tr>\n",
       "    <tr>\n",
       "      <th>min</th>\n",
       "      <td>0.000000</td>\n",
       "      <td>0.000000</td>\n",
       "      <td>0.000000</td>\n",
       "      <td>0.000000</td>\n",
       "      <td>0.000000</td>\n",
       "      <td>0.000000</td>\n",
       "      <td>0.000000</td>\n",
       "      <td>0.000000</td>\n",
       "      <td>0.000000</td>\n",
       "      <td>0.011000</td>\n",
       "      <td>0.011000</td>\n",
       "      <td>22.445341</td>\n",
       "    </tr>\n",
       "    <tr>\n",
       "      <th>25%</th>\n",
       "      <td>0.000000</td>\n",
       "      <td>0.000000</td>\n",
       "      <td>0.000000</td>\n",
       "      <td>0.000000</td>\n",
       "      <td>0.000000</td>\n",
       "      <td>0.000000</td>\n",
       "      <td>0.000000</td>\n",
       "      <td>0.000000</td>\n",
       "      <td>0.000000</td>\n",
       "      <td>0.220000</td>\n",
       "      <td>0.255000</td>\n",
       "      <td>39.141056</td>\n",
       "    </tr>\n",
       "    <tr>\n",
       "      <th>50%</th>\n",
       "      <td>0.000000</td>\n",
       "      <td>0.000000</td>\n",
       "      <td>0.000000</td>\n",
       "      <td>0.000000</td>\n",
       "      <td>0.000000</td>\n",
       "      <td>0.000000</td>\n",
       "      <td>0.000000</td>\n",
       "      <td>0.000000</td>\n",
       "      <td>1.000000</td>\n",
       "      <td>0.465000</td>\n",
       "      <td>0.465000</td>\n",
       "      <td>47.829754</td>\n",
       "    </tr>\n",
       "    <tr>\n",
       "      <th>75%</th>\n",
       "      <td>1.000000</td>\n",
       "      <td>1.000000</td>\n",
       "      <td>0.000000</td>\n",
       "      <td>0.000000</td>\n",
       "      <td>0.000000</td>\n",
       "      <td>0.000000</td>\n",
       "      <td>0.000000</td>\n",
       "      <td>0.000000</td>\n",
       "      <td>1.000000</td>\n",
       "      <td>0.732000</td>\n",
       "      <td>0.651000</td>\n",
       "      <td>59.863998</td>\n",
       "    </tr>\n",
       "    <tr>\n",
       "      <th>max</th>\n",
       "      <td>1.000000</td>\n",
       "      <td>1.000000</td>\n",
       "      <td>1.000000</td>\n",
       "      <td>1.000000</td>\n",
       "      <td>1.000000</td>\n",
       "      <td>1.000000</td>\n",
       "      <td>1.000000</td>\n",
       "      <td>1.000000</td>\n",
       "      <td>1.000000</td>\n",
       "      <td>0.988000</td>\n",
       "      <td>0.976000</td>\n",
       "      <td>84.180290</td>\n",
       "    </tr>\n",
       "  </tbody>\n",
       "</table>\n",
       "</div>"
      ],
      "text/plain": [
       "       chocolate     fruity    caramel  peanutyalmondy     nougat  \\\n",
       "count  85.000000  85.000000  85.000000       85.000000  85.000000   \n",
       "mean    0.435294   0.447059   0.164706        0.164706   0.082353   \n",
       "std     0.498738   0.500140   0.373116        0.373116   0.276533   \n",
       "min     0.000000   0.000000   0.000000        0.000000   0.000000   \n",
       "25%     0.000000   0.000000   0.000000        0.000000   0.000000   \n",
       "50%     0.000000   0.000000   0.000000        0.000000   0.000000   \n",
       "75%     1.000000   1.000000   0.000000        0.000000   0.000000   \n",
       "max     1.000000   1.000000   1.000000        1.000000   1.000000   \n",
       "\n",
       "       crispedricewafer       hard        bar   pluribus  sugarpercent  \\\n",
       "count         85.000000  85.000000  85.000000  85.000000     85.000000   \n",
       "mean           0.082353   0.176471   0.247059   0.517647      0.478647   \n",
       "std            0.276533   0.383482   0.433861   0.502654      0.282778   \n",
       "min            0.000000   0.000000   0.000000   0.000000      0.011000   \n",
       "25%            0.000000   0.000000   0.000000   0.000000      0.220000   \n",
       "50%            0.000000   0.000000   0.000000   1.000000      0.465000   \n",
       "75%            0.000000   0.000000   0.000000   1.000000      0.732000   \n",
       "max            1.000000   1.000000   1.000000   1.000000      0.988000   \n",
       "\n",
       "       pricepercent  winpercent  \n",
       "count     85.000000   85.000000  \n",
       "mean       0.468882   50.316764  \n",
       "std        0.285740   14.714357  \n",
       "min        0.011000   22.445341  \n",
       "25%        0.255000   39.141056  \n",
       "50%        0.465000   47.829754  \n",
       "75%        0.651000   59.863998  \n",
       "max        0.976000   84.180290  "
      ]
     },
     "execution_count": 4,
     "metadata": {},
     "output_type": "execute_result"
    }
   ],
   "source": [
    "candy_data.describe()"
   ]
  },
  {
   "cell_type": "markdown",
   "metadata": {},
   "source": [
    "We can see that there are in total 85 different candies entered this competition. 43.5% of times, we encounter chocolate candies and 44.7% of times, we come across fruity candies. And it seems like those two conitions are very much mutually exclusive.\n",
    "\n",
    "Let's then check if there is any missing or erroneous value in the candy dataset. We use pandas.isna function to get a boolean matrix showing whether each of the entry in original dataset is na/null (True) or contains value (False). We then use column sum to add up all boolean values, the result we have below are all zeros, which means there is no missing value in the data set. The data itself is clean."
   ]
  },
  {
   "cell_type": "code",
   "execution_count": 6,
   "metadata": {},
   "outputs": [
    {
     "data": {
      "text/plain": [
       "competitorname      0\n",
       "chocolate           0\n",
       "fruity              0\n",
       "caramel             0\n",
       "peanutyalmondy      0\n",
       "nougat              0\n",
       "crispedricewafer    0\n",
       "hard                0\n",
       "bar                 0\n",
       "pluribus            0\n",
       "sugarpercent        0\n",
       "pricepercent        0\n",
       "winpercent          0\n",
       "dtype: int64"
      ]
     },
     "execution_count": 6,
     "metadata": {},
     "output_type": "execute_result"
    }
   ],
   "source": [
    "if_null = pd.isna(candy_data)\n",
    "if_null.sum(axis=0)"
   ]
  },
  {
   "cell_type": "markdown",
   "metadata": {},
   "source": [
    "Let's **sort the data set** and find the ten most popular candies. Reeses take 4 positions of the top ten spots and if we look at the ingredients carefully, top ten all contain chocolate and are not hard candies. This might give us some insight into why they're so desirable."
   ]
  },
  {
   "cell_type": "code",
   "execution_count": 7,
   "metadata": {},
   "outputs": [
    {
     "data": {
      "text/html": [
       "<div>\n",
       "<style scoped>\n",
       "    .dataframe tbody tr th:only-of-type {\n",
       "        vertical-align: middle;\n",
       "    }\n",
       "\n",
       "    .dataframe tbody tr th {\n",
       "        vertical-align: top;\n",
       "    }\n",
       "\n",
       "    .dataframe thead th {\n",
       "        text-align: right;\n",
       "    }\n",
       "</style>\n",
       "<table border=\"1\" class=\"dataframe\">\n",
       "  <thead>\n",
       "    <tr style=\"text-align: right;\">\n",
       "      <th></th>\n",
       "      <th>competitorname</th>\n",
       "      <th>chocolate</th>\n",
       "      <th>fruity</th>\n",
       "      <th>caramel</th>\n",
       "      <th>peanutyalmondy</th>\n",
       "      <th>nougat</th>\n",
       "      <th>crispedricewafer</th>\n",
       "      <th>hard</th>\n",
       "      <th>bar</th>\n",
       "      <th>pluribus</th>\n",
       "      <th>sugarpercent</th>\n",
       "      <th>pricepercent</th>\n",
       "      <th>winpercent</th>\n",
       "    </tr>\n",
       "  </thead>\n",
       "  <tbody>\n",
       "    <tr>\n",
       "      <th>52</th>\n",
       "      <td>ReeseÕs Peanut Butter cup</td>\n",
       "      <td>1</td>\n",
       "      <td>0</td>\n",
       "      <td>0</td>\n",
       "      <td>1</td>\n",
       "      <td>0</td>\n",
       "      <td>0</td>\n",
       "      <td>0</td>\n",
       "      <td>0</td>\n",
       "      <td>0</td>\n",
       "      <td>0.720</td>\n",
       "      <td>0.651</td>\n",
       "      <td>84.180290</td>\n",
       "    </tr>\n",
       "    <tr>\n",
       "      <th>51</th>\n",
       "      <td>ReeseÕs Miniatures</td>\n",
       "      <td>1</td>\n",
       "      <td>0</td>\n",
       "      <td>0</td>\n",
       "      <td>1</td>\n",
       "      <td>0</td>\n",
       "      <td>0</td>\n",
       "      <td>0</td>\n",
       "      <td>0</td>\n",
       "      <td>0</td>\n",
       "      <td>0.034</td>\n",
       "      <td>0.279</td>\n",
       "      <td>81.866257</td>\n",
       "    </tr>\n",
       "    <tr>\n",
       "      <th>79</th>\n",
       "      <td>Twix</td>\n",
       "      <td>1</td>\n",
       "      <td>0</td>\n",
       "      <td>1</td>\n",
       "      <td>0</td>\n",
       "      <td>0</td>\n",
       "      <td>1</td>\n",
       "      <td>0</td>\n",
       "      <td>1</td>\n",
       "      <td>0</td>\n",
       "      <td>0.546</td>\n",
       "      <td>0.906</td>\n",
       "      <td>81.642914</td>\n",
       "    </tr>\n",
       "    <tr>\n",
       "      <th>28</th>\n",
       "      <td>Kit Kat</td>\n",
       "      <td>1</td>\n",
       "      <td>0</td>\n",
       "      <td>0</td>\n",
       "      <td>0</td>\n",
       "      <td>0</td>\n",
       "      <td>1</td>\n",
       "      <td>0</td>\n",
       "      <td>1</td>\n",
       "      <td>0</td>\n",
       "      <td>0.313</td>\n",
       "      <td>0.511</td>\n",
       "      <td>76.768600</td>\n",
       "    </tr>\n",
       "    <tr>\n",
       "      <th>64</th>\n",
       "      <td>Snickers</td>\n",
       "      <td>1</td>\n",
       "      <td>0</td>\n",
       "      <td>1</td>\n",
       "      <td>1</td>\n",
       "      <td>1</td>\n",
       "      <td>0</td>\n",
       "      <td>0</td>\n",
       "      <td>1</td>\n",
       "      <td>0</td>\n",
       "      <td>0.546</td>\n",
       "      <td>0.651</td>\n",
       "      <td>76.673782</td>\n",
       "    </tr>\n",
       "    <tr>\n",
       "      <th>53</th>\n",
       "      <td>ReeseÕs pieces</td>\n",
       "      <td>1</td>\n",
       "      <td>0</td>\n",
       "      <td>0</td>\n",
       "      <td>1</td>\n",
       "      <td>0</td>\n",
       "      <td>0</td>\n",
       "      <td>0</td>\n",
       "      <td>0</td>\n",
       "      <td>1</td>\n",
       "      <td>0.406</td>\n",
       "      <td>0.651</td>\n",
       "      <td>73.434990</td>\n",
       "    </tr>\n",
       "    <tr>\n",
       "      <th>36</th>\n",
       "      <td>Milky Way</td>\n",
       "      <td>1</td>\n",
       "      <td>0</td>\n",
       "      <td>1</td>\n",
       "      <td>0</td>\n",
       "      <td>1</td>\n",
       "      <td>0</td>\n",
       "      <td>0</td>\n",
       "      <td>1</td>\n",
       "      <td>0</td>\n",
       "      <td>0.604</td>\n",
       "      <td>0.651</td>\n",
       "      <td>73.099556</td>\n",
       "    </tr>\n",
       "    <tr>\n",
       "      <th>54</th>\n",
       "      <td>ReeseÕs stuffed with pieces</td>\n",
       "      <td>1</td>\n",
       "      <td>0</td>\n",
       "      <td>0</td>\n",
       "      <td>1</td>\n",
       "      <td>0</td>\n",
       "      <td>0</td>\n",
       "      <td>0</td>\n",
       "      <td>0</td>\n",
       "      <td>0</td>\n",
       "      <td>0.988</td>\n",
       "      <td>0.651</td>\n",
       "      <td>72.887901</td>\n",
       "    </tr>\n",
       "    <tr>\n",
       "      <th>32</th>\n",
       "      <td>Peanut butter M&amp;MÕs</td>\n",
       "      <td>1</td>\n",
       "      <td>0</td>\n",
       "      <td>0</td>\n",
       "      <td>1</td>\n",
       "      <td>0</td>\n",
       "      <td>0</td>\n",
       "      <td>0</td>\n",
       "      <td>0</td>\n",
       "      <td>1</td>\n",
       "      <td>0.825</td>\n",
       "      <td>0.651</td>\n",
       "      <td>71.465050</td>\n",
       "    </tr>\n",
       "    <tr>\n",
       "      <th>42</th>\n",
       "      <td>Nestle Butterfinger</td>\n",
       "      <td>1</td>\n",
       "      <td>0</td>\n",
       "      <td>0</td>\n",
       "      <td>1</td>\n",
       "      <td>0</td>\n",
       "      <td>0</td>\n",
       "      <td>0</td>\n",
       "      <td>1</td>\n",
       "      <td>0</td>\n",
       "      <td>0.604</td>\n",
       "      <td>0.767</td>\n",
       "      <td>70.735641</td>\n",
       "    </tr>\n",
       "  </tbody>\n",
       "</table>\n",
       "</div>"
      ],
      "text/plain": [
       "                 competitorname  chocolate  fruity  caramel  peanutyalmondy  \\\n",
       "52    ReeseÕs Peanut Butter cup          1       0        0               1   \n",
       "51           ReeseÕs Miniatures          1       0        0               1   \n",
       "79                         Twix          1       0        1               0   \n",
       "28                      Kit Kat          1       0        0               0   \n",
       "64                     Snickers          1       0        1               1   \n",
       "53               ReeseÕs pieces          1       0        0               1   \n",
       "36                    Milky Way          1       0        1               0   \n",
       "54  ReeseÕs stuffed with pieces          1       0        0               1   \n",
       "32          Peanut butter M&MÕs          1       0        0               1   \n",
       "42          Nestle Butterfinger          1       0        0               1   \n",
       "\n",
       "    nougat  crispedricewafer  hard  bar  pluribus  sugarpercent  pricepercent  \\\n",
       "52       0                 0     0    0         0         0.720         0.651   \n",
       "51       0                 0     0    0         0         0.034         0.279   \n",
       "79       0                 1     0    1         0         0.546         0.906   \n",
       "28       0                 1     0    1         0         0.313         0.511   \n",
       "64       1                 0     0    1         0         0.546         0.651   \n",
       "53       0                 0     0    0         1         0.406         0.651   \n",
       "36       1                 0     0    1         0         0.604         0.651   \n",
       "54       0                 0     0    0         0         0.988         0.651   \n",
       "32       0                 0     0    0         1         0.825         0.651   \n",
       "42       0                 0     0    1         0         0.604         0.767   \n",
       "\n",
       "    winpercent  \n",
       "52   84.180290  \n",
       "51   81.866257  \n",
       "79   81.642914  \n",
       "28   76.768600  \n",
       "64   76.673782  \n",
       "53   73.434990  \n",
       "36   73.099556  \n",
       "54   72.887901  \n",
       "32   71.465050  \n",
       "42   70.735641  "
      ]
     },
     "execution_count": 7,
     "metadata": {},
     "output_type": "execute_result"
    }
   ],
   "source": [
    "(candy_data.sort_values(by = 'winpercent', ascending = False)).head(10)"
   ]
  },
  {
   "cell_type": "markdown",
   "metadata": {},
   "source": [
    "Let's **create a color heatmap** for the correlation between all variables. This also shows some interesting insights. Attribute winpercent has a relatively high correlation with chocolate, peanutyalmondy, crispedricewafer, bar and pricepercent. If we were to create a unicorn candy liked by everyone, it seems that we should take them all into considerations. But correlation doesn't imply causation."
   ]
  },
  {
   "cell_type": "code",
   "execution_count": 10,
   "metadata": {},
   "outputs": [
    {
     "data": {
      "text/plain": [
       "<matplotlib.axes._subplots.AxesSubplot at 0x2600e52f160>"
      ]
     },
     "execution_count": 10,
     "metadata": {},
     "output_type": "execute_result"
    },
    {
     "data": {
      "image/png": "[encoded data removed]",
      "text/plain": [
       "<matplotlib.figure.Figure at 0x2600e37b198>"
      ]
     },
     "metadata": {},
     "output_type": "display_data"
    }
   ],
   "source": [
    "f, ax = plt.subplots(figsize=(10, 8))\n",
    "corr = candy_data.iloc[:, 1:13].corr()\n",
    "sns.heatmap(corr, mask=np.zeros_like(corr, dtype=np.bool), cmap=sns.diverging_palette(220, 10, as_cmap=True),\n",
    "            square=True, ax=ax)"
   ]
  },
  {
   "cell_type": "code",
   "execution_count": 11,
   "metadata": {},
   "outputs": [
    {
     "data": {
      "text/html": [
       "<div>\n",
       "<style scoped>\n",
       "    .dataframe tbody tr th:only-of-type {\n",
       "        vertical-align: middle;\n",
       "    }\n",
       "\n",
       "    .dataframe tbody tr th {\n",
       "        vertical-align: top;\n",
       "    }\n",
       "\n",
       "    .dataframe thead th {\n",
       "        text-align: right;\n",
       "    }\n",
       "</style>\n",
       "<table border=\"1\" class=\"dataframe\">\n",
       "  <thead>\n",
       "    <tr style=\"text-align: right;\">\n",
       "      <th></th>\n",
       "      <th>chocolate</th>\n",
       "      <th>fruity</th>\n",
       "      <th>caramel</th>\n",
       "      <th>peanutyalmondy</th>\n",
       "      <th>nougat</th>\n",
       "      <th>crispedricewafer</th>\n",
       "      <th>hard</th>\n",
       "      <th>bar</th>\n",
       "      <th>pluribus</th>\n",
       "      <th>sugarpercent</th>\n",
       "      <th>pricepercent</th>\n",
       "      <th>winpercent</th>\n",
       "    </tr>\n",
       "  </thead>\n",
       "  <tbody>\n",
       "    <tr>\n",
       "      <th>chocolate</th>\n",
       "      <td>1.000000</td>\n",
       "      <td>-0.741721</td>\n",
       "      <td>0.249875</td>\n",
       "      <td>0.377824</td>\n",
       "      <td>0.254892</td>\n",
       "      <td>0.341210</td>\n",
       "      <td>-0.344177</td>\n",
       "      <td>0.597421</td>\n",
       "      <td>-0.339675</td>\n",
       "      <td>0.104169</td>\n",
       "      <td>0.504675</td>\n",
       "      <td>0.636517</td>\n",
       "    </tr>\n",
       "    <tr>\n",
       "      <th>fruity</th>\n",
       "      <td>-0.741721</td>\n",
       "      <td>1.000000</td>\n",
       "      <td>-0.335485</td>\n",
       "      <td>-0.399280</td>\n",
       "      <td>-0.269367</td>\n",
       "      <td>-0.269367</td>\n",
       "      <td>0.390678</td>\n",
       "      <td>-0.515066</td>\n",
       "      <td>0.299725</td>\n",
       "      <td>-0.034393</td>\n",
       "      <td>-0.430969</td>\n",
       "      <td>-0.380938</td>\n",
       "    </tr>\n",
       "    <tr>\n",
       "      <th>caramel</th>\n",
       "      <td>0.249875</td>\n",
       "      <td>-0.335485</td>\n",
       "      <td>1.000000</td>\n",
       "      <td>0.059356</td>\n",
       "      <td>0.328493</td>\n",
       "      <td>0.213113</td>\n",
       "      <td>-0.122355</td>\n",
       "      <td>0.333960</td>\n",
       "      <td>-0.269585</td>\n",
       "      <td>0.221933</td>\n",
       "      <td>0.254327</td>\n",
       "      <td>0.213416</td>\n",
       "    </tr>\n",
       "    <tr>\n",
       "      <th>peanutyalmondy</th>\n",
       "      <td>0.377824</td>\n",
       "      <td>-0.399280</td>\n",
       "      <td>0.059356</td>\n",
       "      <td>1.000000</td>\n",
       "      <td>0.213113</td>\n",
       "      <td>-0.017646</td>\n",
       "      <td>-0.205557</td>\n",
       "      <td>0.260420</td>\n",
       "      <td>-0.206109</td>\n",
       "      <td>0.087889</td>\n",
       "      <td>0.309153</td>\n",
       "      <td>0.406192</td>\n",
       "    </tr>\n",
       "    <tr>\n",
       "      <th>nougat</th>\n",
       "      <td>0.254892</td>\n",
       "      <td>-0.269367</td>\n",
       "      <td>0.328493</td>\n",
       "      <td>0.213113</td>\n",
       "      <td>1.000000</td>\n",
       "      <td>-0.089744</td>\n",
       "      <td>-0.138675</td>\n",
       "      <td>0.522976</td>\n",
       "      <td>-0.310339</td>\n",
       "      <td>0.123081</td>\n",
       "      <td>0.153196</td>\n",
       "      <td>0.199375</td>\n",
       "    </tr>\n",
       "    <tr>\n",
       "      <th>crispedricewafer</th>\n",
       "      <td>0.341210</td>\n",
       "      <td>-0.269367</td>\n",
       "      <td>0.213113</td>\n",
       "      <td>-0.017646</td>\n",
       "      <td>-0.089744</td>\n",
       "      <td>1.000000</td>\n",
       "      <td>-0.138675</td>\n",
       "      <td>0.423751</td>\n",
       "      <td>-0.224693</td>\n",
       "      <td>0.069950</td>\n",
       "      <td>0.328265</td>\n",
       "      <td>0.324680</td>\n",
       "    </tr>\n",
       "    <tr>\n",
       "      <th>hard</th>\n",
       "      <td>-0.344177</td>\n",
       "      <td>0.390678</td>\n",
       "      <td>-0.122355</td>\n",
       "      <td>-0.205557</td>\n",
       "      <td>-0.138675</td>\n",
       "      <td>-0.138675</td>\n",
       "      <td>1.000000</td>\n",
       "      <td>-0.265165</td>\n",
       "      <td>0.014532</td>\n",
       "      <td>0.091810</td>\n",
       "      <td>-0.244365</td>\n",
       "      <td>-0.310382</td>\n",
       "    </tr>\n",
       "    <tr>\n",
       "      <th>bar</th>\n",
       "      <td>0.597421</td>\n",
       "      <td>-0.515066</td>\n",
       "      <td>0.333960</td>\n",
       "      <td>0.260420</td>\n",
       "      <td>0.522976</td>\n",
       "      <td>0.423751</td>\n",
       "      <td>-0.265165</td>\n",
       "      <td>1.000000</td>\n",
       "      <td>-0.593409</td>\n",
       "      <td>0.099985</td>\n",
       "      <td>0.518407</td>\n",
       "      <td>0.429929</td>\n",
       "    </tr>\n",
       "    <tr>\n",
       "      <th>pluribus</th>\n",
       "      <td>-0.339675</td>\n",
       "      <td>0.299725</td>\n",
       "      <td>-0.269585</td>\n",
       "      <td>-0.206109</td>\n",
       "      <td>-0.310339</td>\n",
       "      <td>-0.224693</td>\n",
       "      <td>0.014532</td>\n",
       "      <td>-0.593409</td>\n",
       "      <td>1.000000</td>\n",
       "      <td>0.045523</td>\n",
       "      <td>-0.220794</td>\n",
       "      <td>-0.247448</td>\n",
       "    </tr>\n",
       "    <tr>\n",
       "      <th>sugarpercent</th>\n",
       "      <td>0.104169</td>\n",
       "      <td>-0.034393</td>\n",
       "      <td>0.221933</td>\n",
       "      <td>0.087889</td>\n",
       "      <td>0.123081</td>\n",
       "      <td>0.069950</td>\n",
       "      <td>0.091810</td>\n",
       "      <td>0.099985</td>\n",
       "      <td>0.045523</td>\n",
       "      <td>1.000000</td>\n",
       "      <td>0.329706</td>\n",
       "      <td>0.229151</td>\n",
       "    </tr>\n",
       "    <tr>\n",
       "      <th>pricepercent</th>\n",
       "      <td>0.504675</td>\n",
       "      <td>-0.430969</td>\n",
       "      <td>0.254327</td>\n",
       "      <td>0.309153</td>\n",
       "      <td>0.153196</td>\n",
       "      <td>0.328265</td>\n",
       "      <td>-0.244365</td>\n",
       "      <td>0.518407</td>\n",
       "      <td>-0.220794</td>\n",
       "      <td>0.329706</td>\n",
       "      <td>1.000000</td>\n",
       "      <td>0.345325</td>\n",
       "    </tr>\n",
       "    <tr>\n",
       "      <th>winpercent</th>\n",
       "      <td>0.636517</td>\n",
       "      <td>-0.380938</td>\n",
       "      <td>0.213416</td>\n",
       "      <td>0.406192</td>\n",
       "      <td>0.199375</td>\n",
       "      <td>0.324680</td>\n",
       "      <td>-0.310382</td>\n",
       "      <td>0.429929</td>\n",
       "      <td>-0.247448</td>\n",
       "      <td>0.229151</td>\n",
       "      <td>0.345325</td>\n",
       "      <td>1.000000</td>\n",
       "    </tr>\n",
       "  </tbody>\n",
       "</table>\n",
       "</div>"
      ],
      "text/plain": [
       "                  chocolate    fruity   caramel  peanutyalmondy    nougat  \\\n",
       "chocolate          1.000000 -0.741721  0.249875        0.377824  0.254892   \n",
       "fruity            -0.741721  1.000000 -0.335485       -0.399280 -0.269367   \n",
       "caramel            0.249875 -0.335485  1.000000        0.059356  0.328493   \n",
       "peanutyalmondy     0.377824 -0.399280  0.059356        1.000000  0.213113   \n",
       "nougat             0.254892 -0.269367  0.328493        0.213113  1.000000   \n",
       "crispedricewafer   0.341210 -0.269367  0.213113       -0.017646 -0.089744   \n",
       "hard              -0.344177  0.390678 -0.122355       -0.205557 -0.138675   \n",
       "bar                0.597421 -0.515066  0.333960        0.260420  0.522976   \n",
       "pluribus          -0.339675  0.299725 -0.269585       -0.206109 -0.310339   \n",
       "sugarpercent       0.104169 -0.034393  0.221933        0.087889  0.123081   \n",
       "pricepercent       0.504675 -0.430969  0.254327        0.309153  0.153196   \n",
       "winpercent         0.636517 -0.380938  0.213416        0.406192  0.199375   \n",
       "\n",
       "                  crispedricewafer      hard       bar  pluribus  \\\n",
       "chocolate                 0.341210 -0.344177  0.597421 -0.339675   \n",
       "fruity                   -0.269367  0.390678 -0.515066  0.299725   \n",
       "caramel                   0.213113 -0.122355  0.333960 -0.269585   \n",
       "peanutyalmondy           -0.017646 -0.205557  0.260420 -0.206109   \n",
       "nougat                   -0.089744 -0.138675  0.522976 -0.310339   \n",
       "crispedricewafer          1.000000 -0.138675  0.423751 -0.224693   \n",
       "hard                     -0.138675  1.000000 -0.265165  0.014532   \n",
       "bar                       0.423751 -0.265165  1.000000 -0.593409   \n",
       "pluribus                 -0.224693  0.014532 -0.593409  1.000000   \n",
       "sugarpercent              0.069950  0.091810  0.099985  0.045523   \n",
       "pricepercent              0.328265 -0.244365  0.518407 -0.220794   \n",
       "winpercent                0.324680 -0.310382  0.429929 -0.247448   \n",
       "\n",
       "                  sugarpercent  pricepercent  winpercent  \n",
       "chocolate             0.104169      0.504675    0.636517  \n",
       "fruity               -0.034393     -0.430969   -0.380938  \n",
       "caramel               0.221933      0.254327    0.213416  \n",
       "peanutyalmondy        0.087889      0.309153    0.406192  \n",
       "nougat                0.123081      0.153196    0.199375  \n",
       "crispedricewafer      0.069950      0.328265    0.324680  \n",
       "hard                  0.091810     -0.244365   -0.310382  \n",
       "bar                   0.099985      0.518407    0.429929  \n",
       "pluribus              0.045523     -0.220794   -0.247448  \n",
       "sugarpercent          1.000000      0.329706    0.229151  \n",
       "pricepercent          0.329706      1.000000    0.345325  \n",
       "winpercent            0.229151      0.345325    1.000000  "
      ]
     },
     "execution_count": 11,
     "metadata": {},
     "output_type": "execute_result"
    }
   ],
   "source": [
    "corr"
   ]
  },
  {
   "cell_type": "markdown",
   "metadata": {},
   "source": [
    "Finally, let's create **scatterplots for continuous variables** such as sugarprecent and pricepercent as well as **boxplots for discrete variables** which are ingredients/attributes of the candy. Those exploratory plots will help us to determine if multiple regressions are possible and if transformations of some variables are needed. There seem to be slight positive linear relationship between winpercent and sugarpercent/pricepercent. Box width of not hard seems to be one half of width of hard candies, which means their variances are very different and might cause trouble for regression since underlying data might not be normal. We can also see that adding caramel, peautyalmondy, nougat, crispedricewafer all contribute to the winning percentage (but they seems to co-ocur with chocoloate instead of fruity candies."
   ]
  },
  {
   "cell_type": "code",
   "execution_count": 12,
   "metadata": {},
   "outputs": [
    {
     "data": {
      "image/png": "[encoded data removed]",
      "text/plain": [
       "<matplotlib.figure.Figure at 0x2600e4e0d30>"
      ]
     },
     "metadata": {},
     "output_type": "display_data"
    }
   ],
   "source": [
    "plt.figure(figsize=(12,20))\n",
    "ax = plt.subplot(5,2,1)\n",
    "ax.scatter(x = candy_data.iloc[:, 10], y = candy_data.iloc[:, 12])\n",
    "ax.set_xlabel('Sugar Percent')\n",
    "ax.set_ylabel('Win Percentage')\n",
    "\n",
    "ax = plt.subplot(5,2,2)\n",
    "ax.scatter(x = candy_data.iloc[:, 11], y = candy_data.iloc[:, 12])\n",
    "ax.set_xlabel('Price Percent')\n",
    "ax.set_ylabel('Win Percentage')\n",
    "\n",
    "ax = plt.subplot(5,2,3)\n",
    "bplot1 = sns.boxplot(y='winpercent', x='chocolate', \n",
    "                 data=candy_data, \n",
    "                 width=0.5, palette=\"GnBu_d\")\n",
    "\n",
    "ax = plt.subplot(5,2,4)\n",
    "bplot2 = sns.boxplot(y='winpercent', x='fruity', \n",
    "                 data=candy_data, \n",
    "                 width=0.5, palette=\"GnBu_d\")\n",
    "\n",
    "ax = plt.subplot(5,2,5)\n",
    "bplot3 = sns.boxplot(y='winpercent', x='caramel', \n",
    "                 data=candy_data, \n",
    "                 width=0.5, palette=\"GnBu_d\")\n",
    "\n",
    "ax = plt.subplot(5,2,6)\n",
    "bplot4 = sns.boxplot(y='winpercent', x='peanutyalmondy', \n",
    "                 data=candy_data, \n",
    "                 width=0.5, palette=\"GnBu_d\")\n",
    "\n",
    "ax = plt.subplot(5,2,7)\n",
    "bplot5 = sns.boxplot(y='winpercent', x='nougat', \n",
    "                 data=candy_data, \n",
    "                 width=0.5, palette=\"GnBu_d\")\n",
    "\n",
    "ax = plt.subplot(5,2,8)\n",
    "bplot6 = sns.boxplot(y='winpercent', x='crispedricewafer', \n",
    "                 data=candy_data, \n",
    "                 width=0.5, palette=\"GnBu_d\")\n",
    "\n",
    "ax = plt.subplot(5,2,9)\n",
    "bplot7 = sns.boxplot(y='winpercent', x='hard', \n",
    "                 data=candy_data, \n",
    "                 width=0.5, palette=\"GnBu_d\")\n",
    "\n",
    "ax = plt.subplot(5,2,10)\n",
    "bplot8 = sns.boxplot(y='winpercent', x='pluribus', \n",
    "                 data=candy_data, \n",
    "                 width=0.5, palette=\"GnBu_d\")"
   ]
  }
 ],
 "metadata": {
  "kernelspec": {
   "display_name": "Python 3",
   "language": "python",
   "name": "python3"
  },
  "language_info": {
   "codemirror_mode": {
    "name": "ipython",
    "version": 3
   },
   "file_extension": ".py",
   "mimetype": "text/x-python",
   "name": "python",
   "nbconvert_exporter": "python",
   "pygments_lexer": "ipython3",
   "version": "3.6.4"
  }
 },
 "nbformat": 4,
 "nbformat_minor": 2
}
